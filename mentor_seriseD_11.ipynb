{
  "nbformat": 4,
  "nbformat_minor": 0,
  "metadata": {
    "colab": {
      "name": "mentor seriseD-11.ipynb",
      "provenance": [],
      "authorship_tag": "ABX9TyNsg8VEXV9INKW9mbehFQ+5",
      "include_colab_link": true
    },
    "kernelspec": {
      "name": "python3",
      "display_name": "Python 3"
    },
    "language_info": {
      "name": "python"
    }
  },
  "cells": [
    {
      "cell_type": "markdown",
      "metadata": {
        "id": "view-in-github",
        "colab_type": "text"
      },
      "source": [
        "<a href=\"https://colab.research.google.com/github/hyeongwon12/mentor-series/blob/main/mentor_seriseD_11.ipynb\" target=\"_parent\"><img src=\"https://colab.research.google.com/assets/colab-badge.svg\" alt=\"Open In Colab\"/></a>"
      ]
    },
    {
      "cell_type": "code",
      "execution_count": 3,
      "metadata": {
        "colab": {
          "base_uri": "https://localhost:8080/"
        },
        "id": "2W32gWIXdyVt",
        "outputId": "0548191a-7c4a-4ecd-c105-0996ba58eaba"
      },
      "outputs": [
        {
          "output_type": "stream",
          "name": "stdout",
          "text": [
            "당신의 혈액형은?\n",
            "1.A형\n",
            "2.B형\n",
            "3.O형\n",
            "4.AB형\n",
            "2\n",
            "거침없고 추진력이 좋다.\n"
          ]
        }
      ],
      "source": [
        "# operTest\n",
        "\n",
        "# %% (2) 혈액형별 성격\n",
        "qMsg = ((\"당신의 혈액형은?\\n\"\n",
        "        + \"1.A형\\n2.B형\\n3.O형\\n4.AB형\"))\n",
        "# print(qMsg)\n",
        "\n",
        "choice = int(input(qMsg + \"\\n\"))\n",
        "answer_a = \"세심하고 거짓말을 잘 못한다.\"\n",
        "answer_b = \"거침없고 추진력이 좋다.\"\n",
        "answer_o = \"사교성이 좋다.\"\n",
        "answer_ab = \"착하다.\"\n",
        "errMsg = \"다시 입력해주세요.\"\n",
        "\n",
        "result = ((answer_a if choice == 1 else\n",
        "  answer_b if choice == 2 else\n",
        "    answer_o if choice == 3 else\n",
        "     answer_ab if choice == 4 else errMsg\n",
        "  ))\n",
        "\n",
        "print(result)\n"
      ]
    },
    {
      "cell_type": "code",
      "source": [
        "# 제어문\n",
        "#               조건문\n",
        "# if문\n",
        "\n",
        "# if조건식 :\n",
        "#             실행할 문장\n",
        "# if조건식 :  \n",
        "#             실행할 문장\n",
        "# if조건식 :  \n",
        "#             실행할 문장 \n",
        "#------------------------\n",
        "# if 조건식 :\n",
        "#             실행할 문장\n",
        "# elif조건식:  \n",
        "#             실행할 문장\n",
        "# else      :  \n",
        "#             실행할 문장                               "
      ],
      "metadata": {
        "id": "WxYBJOmResLu"
      },
      "execution_count": null,
      "outputs": []
    }
  ]
}