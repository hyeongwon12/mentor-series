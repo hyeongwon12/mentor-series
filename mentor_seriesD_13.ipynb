{
  "nbformat": 4,
  "nbformat_minor": 0,
  "metadata": {
    "colab": {
      "name": "mentor seriesD-13.ipynb",
      "provenance": [],
      "collapsed_sections": [],
      "authorship_tag": "ABX9TyPIW76h34x64Bn03y5xQrnb",
      "include_colab_link": true
    },
    "kernelspec": {
      "name": "python3",
      "display_name": "Python 3"
    },
    "language_info": {
      "name": "python"
    }
  },
  "cells": [
    {
      "cell_type": "markdown",
      "metadata": {
        "id": "view-in-github",
        "colab_type": "text"
      },
      "source": [
        "<a href=\"https://colab.research.google.com/github/hyeongwon12/mentor-series/blob/main/mentor_seriesD_13.ipynb\" target=\"_parent\"><img src=\"https://colab.research.google.com/assets/colab-badge.svg\" alt=\"Open In Colab\"/></a>"
      ]
    },
    {
      "cell_type": "code",
      "execution_count": 5,
      "metadata": {
        "colab": {
          "base_uri": "https://localhost:8080/"
        },
        "id": "Iozi1bM0Jnk5",
        "outputId": "f77f52ae-2546-454d-fbad-5923eb1851c5"
      },
      "outputs": [
        {
          "output_type": "stream",
          "name": "stdout",
          "text": [
            "1. python\n",
            "2. python\n",
            "3. python\n",
            "4. python\n",
            "5. python\n",
            "6. python\n",
            "7. python\n",
            "8. python\n",
            "9. python\n",
            "10. python\n"
          ]
        }
      ],
      "source": [
        "#반복문\n",
        "#       for문\n",
        "\n",
        "#       for 변수명 in range(초기값, 끝값, 증감값):\n",
        "#                 반복할 문장\n",
        "\n",
        "#%% for test\n",
        "for i in range(0, 10, 1) :\n",
        "  print(\"%d. python\" %(i+1))"
      ]
    },
    {
      "cell_type": "code",
      "source": [
        "for i in range(10, 0, -1) :\n",
        "  print(\"%d. python\" %i)"
      ],
      "metadata": {
        "colab": {
          "base_uri": "https://localhost:8080/"
        },
        "id": "rU7YnRGcMm1J",
        "outputId": "65e4cbd4-ca72-4e5e-dd57-ba06ae0afc22"
      },
      "execution_count": 8,
      "outputs": [
        {
          "output_type": "stream",
          "name": "stdout",
          "text": [
            "10. python\n",
            "9. python\n",
            "8. python\n",
            "7. python\n",
            "6. python\n",
            "5. python\n",
            "4. python\n",
            "3. python\n",
            "2. python\n",
            "1. python\n"
          ]
        }
      ]
    },
    {
      "cell_type": "code",
      "source": [
        "# 0부터 1씩 증가하는 for문을 작성한다.\n",
        "# 단, 10~1까지 출력한다.\n",
        "for i in range(0, 10, 1) :\n",
        " print(10-i)"
      ],
      "metadata": {
        "colab": {
          "base_uri": "https://localhost:8080/"
        },
        "id": "gc76n2UGKoR2",
        "outputId": "170b448a-b2e0-47b1-e413-85dee5c0596e"
      },
      "execution_count": 11,
      "outputs": [
        {
          "output_type": "stream",
          "name": "stdout",
          "text": [
            "10\n",
            "9\n",
            "8\n",
            "7\n",
            "6\n",
            "5\n",
            "4\n",
            "3\n",
            "2\n",
            "1\n"
          ]
        }
      ]
    },
    {
      "cell_type": "code",
      "source": [
        "#%% for task\n",
        "\n",
        "# 1~100까지 출력\n",
        "# 100~1까지출력\n",
        "# 1~100까지 중 짝수만 출력\n",
        "\n",
        "# 1\n",
        "for i in range(1, 101, 1):\n",
        "  print(i)\n",
        "\n",
        "for i in range(0, 10, 1):\n",
        "  print(i+1)  "
      ],
      "metadata": {
        "id": "qLIvyJ3ROBVQ"
      },
      "execution_count": null,
      "outputs": []
    },
    {
      "cell_type": "code",
      "source": [
        "# 2\n",
        "for i in range(100, 0, -1):\n",
        "  print(i)\n",
        "\n",
        "for i in range(0, 100, -1):\n",
        "  print(100-i)"
      ],
      "metadata": {
        "id": "p_Rkm_HrO0D2"
      },
      "execution_count": null,
      "outputs": []
    },
    {
      "cell_type": "code",
      "source": [
        "# 3\n",
        "for i in range(1, 100, 2):\n",
        "  print(i+1)\n",
        "\n",
        "for i in range(1, 51, 1):\n",
        "  print(i*2)"
      ],
      "metadata": {
        "id": "HrKXVCAPO4mj"
      },
      "execution_count": null,
      "outputs": []
    }
  ]
}