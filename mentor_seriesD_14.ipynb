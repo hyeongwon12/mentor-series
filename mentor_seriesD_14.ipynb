{
  "nbformat": 4,
  "nbformat_minor": 0,
  "metadata": {
    "colab": {
      "name": "mentor seriseD-14.ipynb",
      "provenance": [],
      "collapsed_sections": [],
      "authorship_tag": "ABX9TyP1auS+HzIWWhCvd+0BlUVR",
      "include_colab_link": true
    },
    "kernelspec": {
      "name": "python3",
      "display_name": "Python 3"
    },
    "language_info": {
      "name": "python"
    }
  },
  "cells": [
    {
      "cell_type": "markdown",
      "metadata": {
        "id": "view-in-github",
        "colab_type": "text"
      },
      "source": [
        "<a href=\"https://colab.research.google.com/github/hyeongwon12/mentor-series/blob/main/mentor_seriseD_14.ipynb\" target=\"_parent\"><img src=\"https://colab.research.google.com/assets/colab-badge.svg\" alt=\"Open In Colab\"/></a>"
      ]
    },
    {
      "cell_type": "code",
      "execution_count": 7,
      "metadata": {
        "colab": {
          "base_uri": "https://localhost:8080/"
        },
        "id": "AHqOAdiCe0xs",
        "outputId": "603b2ac1-1cce-4cb8-9040-d297685bf0ba"
      },
      "outputs": [
        {
          "output_type": "stream",
          "name": "stdout",
          "text": [
            "A\n",
            "B\n",
            "C\n",
            "D\n",
            "E\n",
            "F\n"
          ]
        }
      ],
      "source": [
        "# A~F까지 출력\n",
        "# A~F까지 출력 중 C제외하고 출력\n",
        "# aBcDeFgHiJkLmNoPqRsTuVwXyZ 출력\n",
        "\n",
        "# A B C D E F\n",
        "# print(ord('A'))\n",
        "# print(ord('B'))\n",
        "# range(start, end, step)\n",
        "# startrk 0일 때에는 생략이 가능하다.\n",
        "\n",
        "for i in range(6):\n",
        "  print(chr(i+65))\n"
      ]
    },
    {
      "cell_type": "code",
      "source": [
        "for i in range(5):\n",
        "   # 0 1 2 3 4\n",
        "   # a b c d e\n",
        "   if i > 1:\n",
        "     i += 1 \n",
        "   print(chr(65+i))"
      ],
      "metadata": {
        "colab": {
          "base_uri": "https://localhost:8080/"
        },
        "id": "X2Jvwq6IgtOv",
        "outputId": "286ea207-385a-47be-89f3-a32399779ee9"
      },
      "execution_count": 13,
      "outputs": [
        {
          "output_type": "stream",
          "name": "stdout",
          "text": [
            "A\n",
            "B\n",
            "D\n",
            "E\n",
            "F\n"
          ]
        }
      ]
    },
    {
      "cell_type": "code",
      "source": [
        "temp = 0\n",
        "for i in range(5):\n",
        "  temp = i\n",
        "  temp = temp + 1 if i >1 else temp\n",
        "  print(chr(65 + temp))\n",
        "  "
      ],
      "metadata": {
        "colab": {
          "base_uri": "https://localhost:8080/"
        },
        "id": "zokYSrTHwC9G",
        "outputId": "2b1275e8-125e-44b4-d50c-edeb2c406648"
      },
      "execution_count": 14,
      "outputs": [
        {
          "output_type": "stream",
          "name": "stdout",
          "text": [
            "A\n",
            "B\n",
            "D\n",
            "E\n",
            "F\n"
          ]
        }
      ]
    },
    {
      "cell_type": "code",
      "source": [
        "for i in range(26):\n",
        " print(chr(97+ i if i%2 == 0 else 65 + i), end='')\n"
      ],
      "metadata": {
        "colab": {
          "base_uri": "https://localhost:8080/"
        },
        "id": "G_yhv9V_w1Vy",
        "outputId": "816fa4ae-057b-4007-968c-4791a214729b"
      },
      "execution_count": 18,
      "outputs": [
        {
          "output_type": "stream",
          "name": "stdout",
          "text": [
            "aBcDeFgHiJkLmNoPqRsTuVwXyZ"
          ]
        }
      ]
    },
    {
      "cell_type": "code",
      "source": [
        ""
      ],
      "metadata": {
        "id": "HPgScf_12moE"
      },
      "execution_count": null,
      "outputs": []
    }
  ]
}
