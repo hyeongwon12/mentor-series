{
  "nbformat": 4,
  "nbformat_minor": 0,
  "metadata": {
    "colab": {
      "name": "mentor seriesD-12.ipynb",
      "provenance": [],
      "authorship_tag": "ABX9TyPnJJR7IMe5J74m6R2vQXD4",
      "include_colab_link": true
    },
    "kernelspec": {
      "name": "python3",
      "display_name": "Python 3"
    },
    "language_info": {
      "name": "python"
    }
  },
  "cells": [
    {
      "cell_type": "markdown",
      "metadata": {
        "id": "view-in-github",
        "colab_type": "text"
      },
      "source": [
        "<a href=\"https://colab.research.google.com/github/hyeongwon12/mentor-series/blob/main/mentor_seriesD_12.ipynb\" target=\"_parent\"><img src=\"https://colab.research.google.com/assets/colab-badge.svg\" alt=\"Open In Colab\"/></a>"
      ]
    },
    {
      "cell_type": "code",
      "execution_count": 3,
      "metadata": {
        "colab": {
          "base_uri": "https://localhost:8080/"
        },
        "id": "j-ETfeodk0-h",
        "outputId": "7a8056e2-bc8a-4222-9e12-7e12b3164b45"
      },
      "outputs": [
        {
          "output_type": "stream",
          "name": "stdout",
          "text": [
            "첫번째 정수 : 20\n",
            "두번째 정수 : 60\n",
            "큰 값 : 60\n"
          ]
        }
      ],
      "source": [
        "#%% if test\n",
        "n1Msg = \"첫번째 정수 : \"\n",
        "n2Msg = \"두번째 정수 : \"\n",
        "\n",
        "num1 = int(input(n1Msg))\n",
        "num2 = int(input(n2Msg))\n",
        "\n",
        "if num1 > num2 :\n",
        "     print(\"큰 값 : \" + str(num1))\n",
        "elif num2 > num1 :\n",
        "     print(\"큰 값 : \" + str(num2))\n",
        "else :\n",
        "     print(\"두 수가 같습니다.\")"
      ]
    },
    {
      "cell_type": "code",
      "source": [
        "#%% if task\n",
        "\n",
        "# 혈액형별 성격프로그램을 if문으로 수정\n",
        "\n",
        "qMsg = ((\"당신의 혈액형은?\\n\"\n",
        "        + \"1.A형\\n2.B형\\n3.O형\\n4.AB형\\n\"))\n",
        "\n",
        "choice = int(input(qMsg))\n",
        "\n",
        "answer_a = \"세심하고 거짓말을 잘 못한다.\"\n",
        "answer_b = \"거침없고 추진력이 좋다.\"\n",
        "answer_o = \"사교성이 좋다.\"\n",
        "answer_ab = \"착하다.\"\n",
        "errMsg = \"다시 입력해주세요.\"\n",
        "\n",
        "if choice == 1:\n",
        "  print(answer_a)\n",
        "elif choice == 2:\n",
        "  print(answer_b)\n",
        "elif choice == 3:\n",
        "  print(answer_o)\n",
        "elif choice == 4:\n",
        "  print(answer_ab)\n",
        "else :\n",
        "  print(errMsg)"
      ],
      "metadata": {
        "colab": {
          "base_uri": "https://localhost:8080/"
        },
        "id": "WANDZzBjmeWu",
        "outputId": "357f1165-dcb3-4c1d-85ef-f9df53545164"
      },
      "execution_count": 6,
      "outputs": [
        {
          "output_type": "stream",
          "name": "stdout",
          "text": [
            "당신의 혈액형은?\n",
            "1.A형\n",
            "2.B형\n",
            "3.O형\n",
            "4.AB형\n",
            "1\n",
            "세심하고 거짓말을 잘 못한다.\n"
          ]
        }
      ]
    },
    {
      "cell_type": "code",
      "source": [
        "#%% if task\n",
        "\n",
        "# 혈액형별 성격프로그램을 if문으로 수정\n",
        "\n",
        "qMsg = ((\"당신의 혈액형은?\\n\"\n",
        "        + \"1.A형\\n2.B형\\n3.O형\\n4.AB형\\n\"))\n",
        "\n",
        "choice = int(input(qMsg))\n",
        "\n",
        "answer_a = \"세심하고 거짓말을 잘 못한다.\"\n",
        "answer_b = \"거침없고 추진력이 좋다.\"\n",
        "answer_o = \"사교성이 좋다.\"\n",
        "answer_ab = \"착하다.\"\n",
        "errMsg = \"다시 입력해주세요.\"\n",
        "\n",
        "if choice == 1:\n",
        "  result = answer_a\n",
        "elif choice == 2:\n",
        "  result = answer_b\n",
        "elif choice == 3:\n",
        "  result = answer_o\n",
        "elif choice == 4:\n",
        "  result = answer_ab\n",
        "else :\n",
        "  result = errMsg\n",
        "\n",
        "print(result)"
      ],
      "metadata": {
        "id": "tHgYKjm1DC_x"
      },
      "execution_count": null,
      "outputs": []
    },
    {
      "cell_type": "code",
      "source": [
        "\n",
        "\n",
        "'''변수\n",
        "저장공간과 값의 구분을 정확히 할 줄 알아야 한다.'''\n",
        "\n",
        "# data = 10  // 저장공간\n",
        "# data + 9  //    값\n",
        "# data = data + 9 // 저장공간, 값\n",
        "# data - 1 //    값\n",
        "# print(data) // 값\n",
        "# data = 20 + 9 // 저장공간\n",
        "\n",
        "# 대입연산자 (복학 대입 연산자, 누적 연산자)\n",
        "#   +=, -= , *=, /=, %=, //=, ...\n",
        "money == 10000\n",
        "money - 1000\n",
        "print(money)\n",
        "\n",
        "money = 10000\n",
        "money = money - 1000\n",
        "print(money)\n",
        "\n",
        "money = 10000\n",
        "money -= 1000\n",
        "print(money)"
      ],
      "metadata": {
        "colab": {
          "base_uri": "https://localhost:8080/"
        },
        "id": "90NBU2g_nJS5",
        "outputId": "03c23f2d-2da2-4e82-af78-bac9d6fde248"
      },
      "execution_count": 16,
      "outputs": [
        {
          "output_type": "stream",
          "name": "stdout",
          "text": [
            "9000\n",
            "9000\n",
            "9000\n"
          ]
        }
      ]
    }
  ]
}