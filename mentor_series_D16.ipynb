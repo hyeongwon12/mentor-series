{
  "nbformat": 4,
  "nbformat_minor": 0,
  "metadata": {
    "colab": {
      "name": "mentor series D16.ipynb",
      "provenance": [],
      "authorship_tag": "ABX9TyNNchbJ/E9GD28aDqwrxdjv",
      "include_colab_link": true
    },
    "kernelspec": {
      "name": "python3",
      "display_name": "Python 3"
    },
    "language_info": {
      "name": "python"
    }
  },
  "cells": [
    {
      "cell_type": "markdown",
      "metadata": {
        "id": "view-in-github",
        "colab_type": "text"
      },
      "source": [
        "<a href=\"https://colab.research.google.com/github/hyeongwon12/mentor-series/blob/main/mentor_series_D16.ipynb\" target=\"_parent\"><img src=\"https://colab.research.google.com/assets/colab-badge.svg\" alt=\"Open In Colab\"/></a>"
      ]
    },
    {
      "cell_type": "code",
      "execution_count": null,
      "metadata": {
        "id": "P2lbgrHBVkdX"
      },
      "outputs": [],
      "source": [
        "#제어문\n",
        "  # 반복문\n",
        "      \n",
        "  #     for문\n",
        "  #             반복 횟수를 알때\n",
        "  #     while문\n",
        "\n",
        "  #     while 조건식:\n",
        "  #             반복할 문장\n",
        "\n",
        "  #     조건식이 참이면 반복\n",
        "\n",
        "  #     무한 반복일 경우, 특정 조건에 break를 사용해서 탈출"
      ]
    },
    {
      "cell_type": "code",
      "source": [
        "cnt = 0\n",
        "while cnt != 10 :\n",
        "  cnt+=1\n",
        "  print(f'{cnt}.\"asd\"')"
      ],
      "metadata": {
        "colab": {
          "base_uri": "https://localhost:8080/"
        },
        "id": "yRlXi54JWBMD",
        "outputId": "ef405745-0ee7-470f-ec67-eb61d1d38793"
      },
      "execution_count": null,
      "outputs": [
        {
          "output_type": "stream",
          "name": "stdout",
          "text": [
            "1.\"asd\"\n",
            "2.\"asd\"\n",
            "3.\"asd\"\n",
            "4.\"asd\"\n",
            "5.\"asd\"\n",
            "6.\"asd\"\n",
            "7.\"asd\"\n",
            "8.\"asd\"\n",
            "9.\"asd\"\n",
            "10.\"asd\"\n"
          ]
        }
      ]
    },
    {
      "cell_type": "code",
      "source": [
        "for cnt in range(10):\n",
        "  print(f'{cnt+1}.\"asd\"')"
      ],
      "metadata": {
        "colab": {
          "base_uri": "https://localhost:8080/"
        },
        "id": "zYbp6B-SWp7j",
        "outputId": "fe5f5ec4-3f7a-4599-c442-bb5afa3818a6"
      },
      "execution_count": null,
      "outputs": [
        {
          "output_type": "stream",
          "name": "stdout",
          "text": [
            "1.\"asd\"\n",
            "2.\"asd\"\n",
            "3.\"asd\"\n",
            "4.\"asd\"\n",
            "5.\"asd\"\n",
            "6.\"asd\"\n",
            "7.\"asd\"\n",
            "8.\"asd\"\n",
            "9.\"asd\"\n",
            "10.\"asd\"\n"
          ]
        }
      ]
    },
    {
      "cell_type": "code",
      "source": [
        ""
      ],
      "metadata": {
        "id": "WvUEOk0TW51c"
      },
      "execution_count": null,
      "outputs": []
    }
  ]
}